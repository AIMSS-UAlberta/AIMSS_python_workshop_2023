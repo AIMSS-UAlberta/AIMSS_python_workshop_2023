{
  "nbformat": 4,
  "nbformat_minor": 0,
  "metadata": {
    "colab": {
      "provenance": [],
      "authorship_tag": "ABX9TyP2SEJpPEQiswt8KaTmbijk",
      "include_colab_link": true
    },
    "kernelspec": {
      "name": "python3",
      "display_name": "Python 3"
    },
    "language_info": {
      "name": "python"
    }
  },
  "cells": [
    {
      "cell_type": "markdown",
      "metadata": {
        "id": "view-in-github",
        "colab_type": "text"
      },
      "source": [
        "<a href=\"https://colab.research.google.com/github/afrin-afia/AIMSS_python_workshop_2023/blob/main/basicPython.ipynb\" target=\"_parent\"><img src=\"https://colab.research.google.com/assets/colab-badge.svg\" alt=\"Open In Colab\"/></a>"
      ]
    },
    {
      "cell_type": "code",
      "execution_count": null,
      "metadata": {
        "colab": {
          "base_uri": "https://localhost:8080/"
        },
        "id": "lgNGLf-y4bKI",
        "outputId": "f0d7b672-3bae-4a53-96f3-e7031084904e"
      },
      "outputs": [
        {
          "output_type": "stream",
          "name": "stdout",
          "text": [
            "Enter Your Name: aa\n",
            "Your name is: aa\n"
          ]
        }
      ],
      "source": [
        "#cell 1: input output\n",
        "name= input('Enter Your Name: ')\n",
        "print('Your name is: '+ name)"
      ]
    },
    {
      "cell_type": "markdown",
      "source": [
        "Note: The cell below is buggy"
      ],
      "metadata": {
        "id": "UUWzVQ0D7lPq"
      }
    },
    {
      "cell_type": "code",
      "source": [
        "#cell 2: let's take two numbers and sum them!\n",
        "number1= input('Enter first number: ')\n",
        "number2= input('Enter second number: ')\n",
        "sum= number1 + number2\n",
        "print(sum)"
      ],
      "metadata": {
        "id": "DZgbGQpW7c2z"
      },
      "execution_count": null,
      "outputs": []
    },
    {
      "cell_type": "markdown",
      "source": [
        "Q1: So, what's wrong in cell2?\n",
        "\n",
        "-We need **numbers**, but the input function takes **string input**\n",
        "\n",
        "\n",
        "\n",
        "Q2: What are these **number**, **string** things?\n",
        "\n",
        "-Let's learn the basic **data types** in python"
      ],
      "metadata": {
        "id": "xkkvcEtr7xxA"
      }
    },
    {
      "cell_type": "code",
      "source": [
        "#cell 3: again, take two numbers and sum them...\n",
        "number1= int(input('Enter first number: '))         #typecasting: converting str to int\n",
        "number2= int(input('Enter second number: '))\n",
        "sum= number1 + number2\n",
        "print(sum)"
      ],
      "metadata": {
        "colab": {
          "base_uri": "https://localhost:8080/"
        },
        "id": "oUPpYgCX7eAR",
        "outputId": "ef95d851-68dc-4630-f266-726816b6d5a5"
      },
      "execution_count": null,
      "outputs": [
        {
          "output_type": "stream",
          "name": "stdout",
          "text": [
            "Enter first number: 1\n",
            "Enter second number: 2\n",
            "3\n"
          ]
        }
      ]
    },
    {
      "cell_type": "markdown",
      "source": [
        "Oops! \n",
        "\n",
        "Cell3 only works with integers. How can we fix this?"
      ],
      "metadata": {
        "id": "BRBlxLi0Er8s"
      }
    },
    {
      "cell_type": "code",
      "source": [
        "#cell 4: again, take two numbers and sum them...\n",
        "number1= float(input('Enter first number: '))         #typecasting: converting str to float\n",
        "number2= float(input('Enter second number: '))\n",
        "sum= number1 + number2\n",
        "print(sum)"
      ],
      "metadata": {
        "colab": {
          "base_uri": "https://localhost:8080/"
        },
        "id": "Em_dEwqFE1rk",
        "outputId": "2898f4c6-137a-4632-c490-a7b4b19d99d6"
      },
      "execution_count": null,
      "outputs": [
        {
          "output_type": "stream",
          "name": "stdout",
          "text": [
            "Enter first number: 3.2\n",
            "Enter second number: 4.5\n",
            "7.7\n"
          ]
        }
      ]
    },
    {
      "cell_type": "code",
      "source": [
        "#cell 5: list\n",
        "l= [10,2,3,4]    #define a list\n",
        "l.append(5)\n",
        "print(l)\n",
        "l.pop()\n",
        "print(l)\n",
        "l.sort()\n",
        "print(l)\n"
      ],
      "metadata": {
        "colab": {
          "base_uri": "https://localhost:8080/"
        },
        "id": "9xBiP9zEIwkt",
        "outputId": "f0cfa381-b4fa-42af-9a00-e6cba2875633"
      },
      "execution_count": null,
      "outputs": [
        {
          "output_type": "stream",
          "name": "stdout",
          "text": [
            "[10, 2, 3, 4, 5]\n",
            "[10, 2, 3, 4]\n",
            "[2, 3, 4, 10]\n"
          ]
        }
      ]
    },
    {
      "cell_type": "code",
      "source": [
        "#cell 6: conditionals\n",
        "#take two numbers, print the larger one\n",
        "n1= float(input('Enter first number: '))\n",
        "n2= float(input('Enter second number: '))\n",
        "\n",
        "if (n1 > n2):\n",
        "  print (f'the larger number is: {n1}')     #f inside print command allows using formatted string\n",
        "else:\n",
        "  print (f'the larger number is: {n2}')\n"
      ],
      "metadata": {
        "id": "njI8ZqEIlirS"
      },
      "execution_count": null,
      "outputs": []
    },
    {
      "cell_type": "markdown",
      "source": [
        "Q: Have we considered all the cases? What if two numbers are equal?"
      ],
      "metadata": {
        "id": "U_4fhq6ymnZU"
      }
    },
    {
      "cell_type": "code",
      "source": [
        "#cell 7: conditionals\n",
        "#take two numbers, print the larger one (this time include the 'third case'!)\n",
        "n1= float(input('Enter first number: '))\n",
        "n2= float(input('Enter second number: '))\n",
        "\n",
        "if (n1 > n2):\n",
        "  print (f'the larger number is: {n1}')     #f inside print command allows using formatted string\n",
        "elif (n1 == n2):\n",
        "  print ('the numbers are equal.')\n",
        "else:\n",
        "  print (f'the larger number is: {n2}')"
      ],
      "metadata": {
        "colab": {
          "base_uri": "https://localhost:8080/"
        },
        "id": "LyfO9Varm_ok",
        "outputId": "36a4e547-ea95-48c1-f1ee-7fa9421f95c9"
      },
      "execution_count": null,
      "outputs": [
        {
          "output_type": "stream",
          "name": "stdout",
          "text": [
            "Enter first number: 2.3\n",
            "Enter second number: 2.3\n",
            "the numbers are equal.\n"
          ]
        }
      ]
    },
    {
      "cell_type": "markdown",
      "source": [
        "Q: Is there any other way we could have done this?\n",
        " \n",
        "Hint: maybe we don't need the **elif** (?) "
      ],
      "metadata": {
        "id": "ODKyggLynXve"
      }
    },
    {
      "cell_type": "code",
      "source": [
        "#cell 8: for loop\n",
        "#Take a number. Print it five times\n"
      ],
      "metadata": {
        "id": "uhjJ2oE7nimm"
      },
      "execution_count": null,
      "outputs": []
    }
  ]
}