{
  "nbformat": 4,
  "nbformat_minor": 0,
  "metadata": {
    "colab": {
      "provenance": [],
      "authorship_tag": "ABX9TyPFiFBzgT7pvm4LY6wAMYah",
      "include_colab_link": true
    },
    "kernelspec": {
      "name": "python3",
      "display_name": "Python 3"
    },
    "language_info": {
      "name": "python"
    }
  },
  "cells": [
    {
      "cell_type": "markdown",
      "metadata": {
        "id": "view-in-github",
        "colab_type": "text"
      },
      "source": [
        "<a href=\"https://colab.research.google.com/github/afrin-afia/AIMSS_python_workshop_2023/blob/main/code/basicPython.ipynb\" target=\"_parent\"><img src=\"https://colab.research.google.com/assets/colab-badge.svg\" alt=\"Open In Colab\"/></a>"
      ]
    },
    {
      "cell_type": "code",
      "execution_count": null,
      "metadata": {
        "colab": {
          "base_uri": "https://localhost:8080/"
        },
        "id": "lgNGLf-y4bKI",
        "outputId": "f0d7b672-3bae-4a53-96f3-e7031084904e"
      },
      "outputs": [
        {
          "output_type": "stream",
          "name": "stdout",
          "text": [
            "Enter Your Name: aa\n",
            "Your name is: aa\n"
          ]
        }
      ],
      "source": [
        "#cell 1: input output\n",
        "name= input('Enter Your Name: ')\n",
        "print('Your name is: '+ name)"
      ]
    },
    {
      "cell_type": "markdown",
      "source": [
        "Note: The cell below is buggy"
      ],
      "metadata": {
        "id": "UUWzVQ0D7lPq"
      }
    },
    {
      "cell_type": "code",
      "source": [
        "#cell 2: let's take two numbers and sum them!\n",
        "number1= input('Enter first number: ')\n",
        "number2= input('Enter second number: ')\n",
        "sum= number1 + number2\n",
        "print(sum)"
      ],
      "metadata": {
        "id": "DZgbGQpW7c2z"
      },
      "execution_count": null,
      "outputs": []
    },
    {
      "cell_type": "markdown",
      "source": [
        "Q1: So, what's wrong in cell2?\n",
        "\n",
        "-We need **numbers**, but the input function takes **string input**\n",
        "\n",
        "\n",
        "\n",
        "Q2: What are these **number**, **string** things?\n",
        "\n",
        "-Let's learn the basic **data types** in python"
      ],
      "metadata": {
        "id": "xkkvcEtr7xxA"
      }
    },
    {
      "cell_type": "code",
      "source": [
        "#cell 3: again, take two numbers and sum them...\n",
        "number1= int(input('Enter first number: '))         #typecasting: converting str to int\n",
        "number2= int(input('Enter second number: '))\n",
        "sum= number1 + number2\n",
        "print(sum)"
      ],
      "metadata": {
        "colab": {
          "base_uri": "https://localhost:8080/"
        },
        "id": "oUPpYgCX7eAR",
        "outputId": "ef95d851-68dc-4630-f266-726816b6d5a5"
      },
      "execution_count": null,
      "outputs": [
        {
          "output_type": "stream",
          "name": "stdout",
          "text": [
            "Enter first number: 1\n",
            "Enter second number: 2\n",
            "3\n"
          ]
        }
      ]
    },
    {
      "cell_type": "markdown",
      "source": [
        "Oops! \n",
        "\n",
        "Cell3 only works with integers. How can we fix this?"
      ],
      "metadata": {
        "id": "BRBlxLi0Er8s"
      }
    },
    {
      "cell_type": "code",
      "source": [
        "#cell 4: again, take two numbers and sum them...\n",
        "number1= float(input('Enter first number: '))         #typecasting: converting str to float\n",
        "number2= float(input('Enter second number: '))\n",
        "sum= number1 + number2\n",
        "print(sum)"
      ],
      "metadata": {
        "colab": {
          "base_uri": "https://localhost:8080/"
        },
        "id": "Em_dEwqFE1rk",
        "outputId": "2898f4c6-137a-4632-c490-a7b4b19d99d6"
      },
      "execution_count": null,
      "outputs": [
        {
          "output_type": "stream",
          "name": "stdout",
          "text": [
            "Enter first number: 3.2\n",
            "Enter second number: 4.5\n",
            "7.7\n"
          ]
        }
      ]
    },
    {
      "cell_type": "code",
      "source": [
        "#cell 5: list\n",
        "l= [10,2,3,4]    #define a list\n",
        "l.append(5)\n",
        "print(l)\n",
        "l.pop()\n",
        "print(l)\n",
        "l.sort()\n",
        "print(l)\n"
      ],
      "metadata": {
        "colab": {
          "base_uri": "https://localhost:8080/"
        },
        "id": "9xBiP9zEIwkt",
        "outputId": "f0cfa381-b4fa-42af-9a00-e6cba2875633"
      },
      "execution_count": null,
      "outputs": [
        {
          "output_type": "stream",
          "name": "stdout",
          "text": [
            "[10, 2, 3, 4, 5]\n",
            "[10, 2, 3, 4]\n",
            "[2, 3, 4, 10]\n"
          ]
        }
      ]
    },
    {
      "cell_type": "code",
      "source": [
        "#cell 6: conditionals\n",
        "#take two numbers, print the larger one\n",
        "n1= float(input('Enter first number: '))\n",
        "n2= float(input('Enter second number: '))\n",
        "\n",
        "if (n1 > n2):\n",
        "  print (f'the larger number is: {n1}')     #f inside print command allows using formatted string\n",
        "else:\n",
        "  print (f'the larger number is: {n2}')\n"
      ],
      "metadata": {
        "id": "njI8ZqEIlirS"
      },
      "execution_count": null,
      "outputs": []
    },
    {
      "cell_type": "markdown",
      "source": [
        "Q: Have we considered all the cases? What if two numbers are equal?"
      ],
      "metadata": {
        "id": "U_4fhq6ymnZU"
      }
    },
    {
      "cell_type": "code",
      "source": [
        "#cell 7: conditionals\n",
        "#take two numbers, print the larger one (this time include the 'third case'!)\n",
        "n1= float(input('Enter first number: '))\n",
        "n2= float(input('Enter second number: '))\n",
        "\n",
        "if (n1 > n2):\n",
        "  print (f'the larger number is: {n1}')     #f inside print command allows using formatted string\n",
        "elif (n1 == n2):\n",
        "  print ('the numbers are equal.')\n",
        "else:\n",
        "  print (f'the larger number is: {n2}')"
      ],
      "metadata": {
        "colab": {
          "base_uri": "https://localhost:8080/"
        },
        "id": "LyfO9Varm_ok",
        "outputId": "36a4e547-ea95-48c1-f1ee-7fa9421f95c9"
      },
      "execution_count": null,
      "outputs": [
        {
          "output_type": "stream",
          "name": "stdout",
          "text": [
            "Enter first number: 2.3\n",
            "Enter second number: 2.3\n",
            "the numbers are equal.\n"
          ]
        }
      ]
    },
    {
      "cell_type": "markdown",
      "source": [
        "Q: Is there any other way we could have done this? (cell 7)\n",
        " \n",
        "Hint: maybe we don't need the **elif** (?) "
      ],
      "metadata": {
        "id": "ODKyggLynXve"
      }
    },
    {
      "cell_type": "code",
      "source": [
        "#cell 8: for loop\n",
        "#Take a number. Print it five times\n",
        "n= int (input('Enter a number:'))\n",
        "for i in range (0,5):\n",
        "  print (n)\n"
      ],
      "metadata": {
        "id": "uhjJ2oE7nimm",
        "colab": {
          "base_uri": "https://localhost:8080/"
        },
        "outputId": "44784366-9399-4e17-f321-adfd1b79b496"
      },
      "execution_count": null,
      "outputs": [
        {
          "output_type": "stream",
          "name": "stdout",
          "text": [
            "Enter a number:5\n",
            "5\n",
            "5\n",
            "5\n",
            "5\n",
            "5\n"
          ]
        }
      ]
    },
    {
      "cell_type": "markdown",
      "source": [
        "Q: can we print the numbers is same line?\n",
        "\n",
        "A: yes. Just use print (n, end=' '). It will replace newlines with spaces."
      ],
      "metadata": {
        "id": "7aYgYt4BmVnU"
      }
    },
    {
      "cell_type": "code",
      "source": [
        "#cell 9: take a number. print all odd numbers that are less than or equal to the input number\n",
        "n= int (input('Enter a number:')) \n",
        "for i in range (1,n+1):     #we need to include n.\n",
        "  if (i%2 != 0):\n",
        "    print (i)\n",
        "  "
      ],
      "metadata": {
        "colab": {
          "base_uri": "https://localhost:8080/"
        },
        "id": "0dzEk0cZmwea",
        "outputId": "397faae8-77f7-4dca-ced8-5ae29c6bf145"
      },
      "execution_count": null,
      "outputs": [
        {
          "output_type": "stream",
          "name": "stdout",
          "text": [
            "Enter a number:7\n",
            "1\n",
            "3\n",
            "5\n",
            "7\n"
          ]
        }
      ]
    },
    {
      "cell_type": "code",
      "source": [
        "#cell 10: find the largest number from a list\n",
        "l= [1, -10, 9, 2, 5]\n",
        "largest= l[0]     #assume, first element is the largest\n",
        "for i in l:\n",
        "  if (i > largest):\n",
        "    largest= i\n",
        "print(f'Largest number: {largest}')"
      ],
      "metadata": {
        "colab": {
          "base_uri": "https://localhost:8080/"
        },
        "id": "pMBg7mNWnRRi",
        "outputId": "a739e26f-1093-4edc-a067-f1c81c44c16d"
      },
      "execution_count": null,
      "outputs": [
        {
          "output_type": "stream",
          "name": "stdout",
          "text": [
            "Largest number: 9\n"
          ]
        }
      ]
    },
    {
      "cell_type": "code",
      "source": [
        "#cell 11: define a random list of names. Print the first element that starts with 'A'\n",
        "l= ['Chandler', 'aron', 'James', 'Anika', 'Pheobe']\n",
        "\n",
        "for name in l:\n",
        "  if(name[0]=='A' or name[0]=='a'):\n",
        "    print(name)\n",
        "    break       #just print the first name that starts with 'A' and break the loop!"
      ],
      "metadata": {
        "colab": {
          "base_uri": "https://localhost:8080/"
        },
        "id": "dRIhto4Wqjs5",
        "outputId": "726cf878-617e-4af3-d319-523ebac5c5ea"
      },
      "execution_count": null,
      "outputs": [
        {
          "output_type": "stream",
          "name": "stdout",
          "text": [
            "aron\n"
          ]
        }
      ]
    },
    {
      "cell_type": "code",
      "source": [
        "#cell 12: print all the names that do not start with 'A'\n",
        "l= ['Chandler', 'aron', 'James', 'Anika', 'Pheobe']\n",
        "\n",
        "for name in l:\n",
        "  if (name[0] == 'A' or name[0] == 'a'):      #ignore if it starts with 'A'\n",
        "    continue\n",
        "  print(name)                                 #print otherwise"
      ],
      "metadata": {
        "colab": {
          "base_uri": "https://localhost:8080/"
        },
        "id": "Ca2CiiF9rpMY",
        "outputId": "c39f3451-f13b-46e4-9a7b-17a0c8bf8d20"
      },
      "execution_count": null,
      "outputs": [
        {
          "output_type": "stream",
          "name": "stdout",
          "text": [
            "Chandler\n",
            "James\n",
            "Pheobe\n"
          ]
        }
      ]
    },
    {
      "cell_type": "markdown",
      "source": [
        "Note: Above code (cell 12) shows an example of the use of the keyword **continue**. We can also solve the problem without using **continue**. The cell below shows how "
      ],
      "metadata": {
        "id": "Zv6ayafJslbB"
      }
    },
    {
      "cell_type": "code",
      "source": [
        "#cell 13: print all the names that do not start with 'A' (alternative way)\n",
        "l= ['Chandler', 'aron', 'James', 'Anika', 'Pheobe']\n",
        "\n",
        "for name in l:\n",
        "  if (name[0] != 'A' and name[0] != 'a'):      #print if it does not start with 'A'\n",
        "    print(name) "
      ],
      "metadata": {
        "colab": {
          "base_uri": "https://localhost:8080/"
        },
        "id": "6Q3xsjtstfi5",
        "outputId": "ba9d1a43-890e-4924-d6c2-1c20ffa7e174"
      },
      "execution_count": null,
      "outputs": [
        {
          "output_type": "stream",
          "name": "stdout",
          "text": [
            "Chandler\n",
            "James\n",
            "Pheobe\n"
          ]
        }
      ]
    },
    {
      "cell_type": "code",
      "source": [
        "#cell 14: function to add two numbers\n",
        "def add (n1, n2):\n",
        "  sum= n1 + n2\n",
        "  return sum\n",
        "\n",
        "s= add (7,2)\n",
        "print(s)"
      ],
      "metadata": {
        "colab": {
          "base_uri": "https://localhost:8080/"
        },
        "id": "aX4VqXuLt2O9",
        "outputId": "9447e303-4527-4a74-e9e3-d787c400e09d"
      },
      "execution_count": null,
      "outputs": [
        {
          "output_type": "stream",
          "name": "stdout",
          "text": [
            "9\n"
          ]
        }
      ]
    },
    {
      "cell_type": "code",
      "source": [
        "#cell 15: function for sorting a list\n",
        "\n",
        "def bubbleSort(l):\n",
        "  for pass_num in range (0, len(l)-1):\n",
        "    for i in range (0, len(l)-1):\n",
        "      if (l[i] > l[i+1]):     #swap them\n",
        "        temp= l[i]\n",
        "        l[i]= l[i+1]\n",
        "        l[i+1]= temp\n",
        "  return l\n",
        "\n",
        "unordered_list= [1,9,0,-2,5,6,2]\n",
        "ordered_list= bubbleSort (unordered_list)\n",
        "print(ordered_list)\n"
      ],
      "metadata": {
        "colab": {
          "base_uri": "https://localhost:8080/"
        },
        "id": "bc77x8N0uLLn",
        "outputId": "a35bfa10-efbe-483d-f200-05aa0304e05f"
      },
      "execution_count": null,
      "outputs": [
        {
          "output_type": "stream",
          "name": "stdout",
          "text": [
            "[-2, 0, 1, 2, 5, 6, 9]\n"
          ]
        }
      ]
    },
    {
      "cell_type": "code",
      "source": [
        "#cell 16: matplotlib library \n",
        "import matplotlib.pyplot as plt   #import the library\n",
        "\n",
        "xvalues= [1,2,3,4,5,6]\n",
        "yvalues= [1,4,9,16,25,36]\n",
        "zvalues= [1,2,3,4,5,6]\n",
        "\n",
        "plt.plot(xvalues, yvalues, label='square')\n",
        "#plt.plot(xvalues, zvalues, label='equal')\n",
        "#plt.scatter(xvalues, yvalues)    #scatter plot\n",
        "#plt.xlabel('x values')\n",
        "#plt.ylabel('y values')\n",
        "\n",
        "#plt.legend()"
      ],
      "metadata": {
        "colab": {
          "base_uri": "https://localhost:8080/",
          "height": 282
        },
        "id": "o6YSYe8l0w8b",
        "outputId": "0d8f8900-5221-485a-cbd9-77f64555a05b"
      },
      "execution_count": null,
      "outputs": [
        {
          "output_type": "execute_result",
          "data": {
            "text/plain": [
              "[<matplotlib.lines.Line2D at 0x7fd9129bb760>]"
            ]
          },
          "metadata": {},
          "execution_count": 26
        },
        {
          "output_type": "display_data",
          "data": {
            "text/plain": [
              "<Figure size 432x288 with 1 Axes>"
            ],
            "image/png": "[encoded data removed]"
          },
          "metadata": {
            "needs_background": "light"
          }
        }
      ]
    },
    {
      "cell_type": "code",
      "source": [
        "#cell 17: pandas dataframe basics\n",
        "import pandas as pd\n",
        "\n",
        "data =\t{\n",
        "  \"name\": [\"Anna\", \"Bella\", \"Cathy\", \"Daisy\"],\n",
        "  \"city\": [\"Edmonton\", \"Calgray\", \"Red Deer\", \"Toronto\"],\n",
        "  \"age\": [25, 43, 33, 19],\n",
        "  \"salary\": [3000, 5752, 8000, 0]\n",
        "}\n",
        "\n",
        "#print (type(data))     #dict\n",
        "\n",
        "df= pd.DataFrame(data)\n",
        "print(df)     #dataframe are easy to understand since they mimic excel tables\n",
        "\n",
        "print(df.loc[1])        #print the nth row\n",
        "print(df.loc[[0,1]])  #print two rows\n",
        "print(df['city'])   #print a column\n",
        "print(df[['age','city']]) #print 2 columns\n",
        "\n",
        "#change the indexes\n",
        "#df= pd.DataFrame (data, index= ['person1', 'person2', 'person3', 'person4'])\n",
        "#print(df)\n",
        "\n",
        "#print(df.shape)"
      ],
      "metadata": {
        "colab": {
          "base_uri": "https://localhost:8080/"
        },
        "id": "QIVPfgwZ3G1m",
        "outputId": "12e88251-aeca-4038-c8fe-8e8ab365db42"
      },
      "execution_count": null,
      "outputs": [
        {
          "output_type": "stream",
          "name": "stdout",
          "text": [
            "    name      city  age  salary\n",
            "0   Anna  Edmonton   25    3000\n",
            "1  Bella   Calgray   43    5752\n",
            "2  Cathy  Red Deer   33    8000\n",
            "3  Daisy   Toronto   19       0\n",
            "name        Bella\n",
            "city      Calgray\n",
            "age            43\n",
            "salary       5752\n",
            "Name: 1, dtype: object\n",
            "    name      city  age  salary\n",
            "0   Anna  Edmonton   25    3000\n",
            "1  Bella   Calgray   43    5752\n",
            "0    Edmonton\n",
            "1     Calgray\n",
            "2    Red Deer\n",
            "3     Toronto\n",
            "Name: city, dtype: object\n",
            "   age      city\n",
            "0   25  Edmonton\n",
            "1   43   Calgray\n",
            "2   33  Red Deer\n",
            "3   19   Toronto\n"
          ]
        }
      ]
    }
  ]
}