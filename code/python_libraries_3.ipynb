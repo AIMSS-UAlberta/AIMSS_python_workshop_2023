{
  "nbformat": 4,
  "nbformat_minor": 0,
  "metadata": {
    "colab": {
      "provenance": [],
      "authorship_tag": "ABX9TyOwHUCCBdFp3YtWOWc3n496",
      "include_colab_link": true
    },
    "kernelspec": {
      "name": "python3",
      "display_name": "Python 3"
    },
    "language_info": {
      "name": "python"
    }
  },
  "cells": [
    {
      "cell_type": "markdown",
      "metadata": {
        "id": "view-in-github",
        "colab_type": "text"
      },
      "source": [
        "<a href=\"https://colab.research.google.com/github/afrin-afia/AIMSS_python_workshop_2023/blob/main/code/python_libraries_3.ipynb\" target=\"_parent\"><img src=\"https://colab.research.google.com/assets/colab-badge.svg\" alt=\"Open In Colab\"/></a>"
      ]
    },
    {
      "cell_type": "code",
      "execution_count": 1,
      "metadata": {
        "id": "2X9okNV-lepL"
      },
      "outputs": [],
      "source": [
        "#classify iris flowers using Pytorch library\n",
        "#load necessary libraries\n",
        "import numpy as np\n",
        "import pandas as pd\n",
        "import matplotlib.pyplot as plt\n",
        "import seaborn as sns\n",
        "\n",
        "import torch\n",
        "import torch.nn as nn\n",
        "import torch.nn.functional as F"
      ]
    },
    {
      "cell_type": "code",
      "source": [
        "#load and preprocess data\n",
        "#load\n",
        "iris_dataframe= sns.load_dataset('iris')                                    #we could load the dataset from a local csv file/sklearn library also\n",
        "#iris_dataframe.info()\n",
        "iris_dataframe= iris_dataframe.sample(frac=1)   #shuffle the data. \n",
        "iris_dataframe['species'].unique()\n",
        "\n",
        "#preprocess \n",
        "#replace target values with numbers. Note: Assign from 0, we need it to start from 0 (explanation in next cell)\n",
        "iris_dataframe=iris_dataframe.replace(to_replace=\"setosa\",value=0)\n",
        "iris_dataframe=iris_dataframe.replace(to_replace=\"versicolor\",value=1)\n",
        "iris_dataframe=iris_dataframe.replace(to_replace=\"virginica\",value=2)\n",
        "iris_dataframe.head()\n"
      ],
      "metadata": {
        "colab": {
          "base_uri": "https://localhost:8080/",
          "height": 206
        },
        "id": "F-ksZHaHwIWo",
        "outputId": "08bf97d4-25b5-459d-b3ab-8d74b6d88d90"
      },
      "execution_count": 10,
      "outputs": [
        {
          "output_type": "execute_result",
          "data": {
            "text/plain": [
              "     sepal_length  sepal_width  petal_length  petal_width  species\n",
              "76            6.8          2.8           4.8          1.4        1\n",
              "109           7.2          3.6           6.1          2.5        2\n",
              "44            5.1          3.8           1.9          0.4        0\n",
              "140           6.7          3.1           5.6          2.4        2\n",
              "72            6.3          2.5           4.9          1.5        1"
            ],
            "text/html": [
              "\n",
              "  <div id=\"df-da92f192-5606-4372-bbc1-75dc80223e47\">\n",
              "    <div class=\"colab-df-container\">\n",
              "      <div>\n",
              "<style scoped>\n",
              "    .dataframe tbody tr th:only-of-type {\n",
              "        vertical-align: middle;\n",
              "    }\n",
              "\n",
              "    .dataframe tbody tr th {\n",
              "        vertical-align: top;\n",
              "    }\n",
              "\n",
              "    .dataframe thead th {\n",
              "        text-align: right;\n",
              "    }\n",
              "</style>\n",
              "<table border=\"1\" class=\"dataframe\">\n",
              "  <thead>\n",
              "    <tr style=\"text-align: right;\">\n",
              "      <th></th>\n",
              "      <th>sepal_length</th>\n",
              "      <th>sepal_width</th>\n",
              "      <th>petal_length</th>\n",
              "      <th>petal_width</th>\n",
              "      <th>species</th>\n",
              "    </tr>\n",
              "  </thead>\n",
              "  <tbody>\n",
              "    <tr>\n",
              "      <th>76</th>\n",
              "      <td>6.8</td>\n",
              "      <td>2.8</td>\n",
              "      <td>4.8</td>\n",
              "      <td>1.4</td>\n",
              "      <td>1</td>\n",
              "    </tr>\n",
              "    <tr>\n",
              "      <th>109</th>\n",
              "      <td>7.2</td>\n",
              "      <td>3.6</td>\n",
              "      <td>6.1</td>\n",
              "      <td>2.5</td>\n",
              "      <td>2</td>\n",
              "    </tr>\n",
              "    <tr>\n",
              "      <th>44</th>\n",
              "      <td>5.1</td>\n",
              "      <td>3.8</td>\n",
              "      <td>1.9</td>\n",
              "      <td>0.4</td>\n",
              "      <td>0</td>\n",
              "    </tr>\n",
              "    <tr>\n",
              "      <th>140</th>\n",
              "      <td>6.7</td>\n",
              "      <td>3.1</td>\n",
              "      <td>5.6</td>\n",
              "      <td>2.4</td>\n",
              "      <td>2</td>\n",
              "    </tr>\n",
              "    <tr>\n",
              "      <th>72</th>\n",
              "      <td>6.3</td>\n",
              "      <td>2.5</td>\n",
              "      <td>4.9</td>\n",
              "      <td>1.5</td>\n",
              "      <td>1</td>\n",
              "    </tr>\n",
              "  </tbody>\n",
              "</table>\n",
              "</div>\n",
              "      <button class=\"colab-df-convert\" onclick=\"convertToInteractive('df-da92f192-5606-4372-bbc1-75dc80223e47')\"\n",
              "              title=\"Convert this dataframe to an interactive table.\"\n",
              "              style=\"display:none;\">\n",
              "        \n",
              "  <svg xmlns=\"http://www.w3.org/2000/svg\" height=\"24px\"viewBox=\"0 0 24 24\"\n",
              "       width=\"24px\">\n",
              "    <path d=\"M0 0h24v24H0V0z\" fill=\"none\"/>\n",
              "    <path d=\"M18.56 5.44l.94 2.06.94-2.06 2.06-.94-2.06-.94-.94-2.06-.94 2.06-2.06.94zm-11 1L8.5 8.5l.94-2.06 2.06-.94-2.06-.94L8.5 2.5l-.94 2.06-2.06.94zm10 10l.94 2.06.94-2.06 2.06-.94-2.06-.94-.94-2.06-.94 2.06-2.06.94z\"/><path d=\"M17.41 7.96l-1.37-1.37c-.4-.4-.92-.59-1.43-.59-.52 0-1.04.2-1.43.59L10.3 9.45l-7.72 7.72c-.78.78-.78 2.05 0 2.83L4 21.41c.39.39.9.59 1.41.59.51 0 1.02-.2 1.41-.59l7.78-7.78 2.81-2.81c.8-.78.8-2.07 0-2.86zM5.41 20L4 18.59l7.72-7.72 1.47 1.35L5.41 20z\"/>\n",
              "  </svg>\n",
              "      </button>\n",
              "      \n",
              "  <style>\n",
              "    .colab-df-container {\n",
              "      display:flex;\n",
              "      flex-wrap:wrap;\n",
              "      gap: 12px;\n",
              "    }\n",
              "\n",
              "    .colab-df-convert {\n",
              "      background-color: #E8F0FE;\n",
              "      border: none;\n",
              "      border-radius: 50%;\n",
              "      cursor: pointer;\n",
              "      display: none;\n",
              "      fill: #1967D2;\n",
              "      height: 32px;\n",
              "      padding: 0 0 0 0;\n",
              "      width: 32px;\n",
              "    }\n",
              "\n",
              "    .colab-df-convert:hover {\n",
              "      background-color: #E2EBFA;\n",
              "      box-shadow: 0px 1px 2px rgba(60, 64, 67, 0.3), 0px 1px 3px 1px rgba(60, 64, 67, 0.15);\n",
              "      fill: #174EA6;\n",
              "    }\n",
              "\n",
              "    [theme=dark] .colab-df-convert {\n",
              "      background-color: #3B4455;\n",
              "      fill: #D2E3FC;\n",
              "    }\n",
              "\n",
              "    [theme=dark] .colab-df-convert:hover {\n",
              "      background-color: #434B5C;\n",
              "      box-shadow: 0px 1px 3px 1px rgba(0, 0, 0, 0.15);\n",
              "      filter: drop-shadow(0px 1px 2px rgba(0, 0, 0, 0.3));\n",
              "      fill: #FFFFFF;\n",
              "    }\n",
              "  </style>\n",
              "\n",
              "      <script>\n",
              "        const buttonEl =\n",
              "          document.querySelector('#df-da92f192-5606-4372-bbc1-75dc80223e47 button.colab-df-convert');\n",
              "        buttonEl.style.display =\n",
              "          google.colab.kernel.accessAllowed ? 'block' : 'none';\n",
              "\n",
              "        async function convertToInteractive(key) {\n",
              "          const element = document.querySelector('#df-da92f192-5606-4372-bbc1-75dc80223e47');\n",
              "          const dataTable =\n",
              "            await google.colab.kernel.invokeFunction('convertToInteractive',\n",
              "                                                     [key], {});\n",
              "          if (!dataTable) return;\n",
              "\n",
              "          const docLinkHtml = 'Like what you see? Visit the ' +\n",
              "            '<a target=\"_blank\" href=https://colab.research.google.com/notebooks/data_table.ipynb>data table notebook</a>'\n",
              "            + ' to learn more about interactive tables.';\n",
              "          element.innerHTML = '';\n",
              "          dataTable['output_type'] = 'display_data';\n",
              "          await google.colab.output.renderOutput(dataTable, element);\n",
              "          const docLink = document.createElement('div');\n",
              "          docLink.innerHTML = docLinkHtml;\n",
              "          element.appendChild(docLink);\n",
              "        }\n",
              "      </script>\n",
              "    </div>\n",
              "  </div>\n",
              "  "
            ]
          },
          "metadata": {},
          "execution_count": 10
        }
      ]
    },
    {
      "cell_type": "code",
      "source": [
        "#partition features and target class\n",
        "Y= iris_dataframe['species']\n",
        "X= iris_dataframe.drop(['species'], axis=1)\n",
        "#X: convert df to array\n",
        "X= X.to_numpy()\n",
        "Y= Y.to_numpy()\n",
        "\n"
      ],
      "metadata": {
        "id": "o8QwDl1D1fIJ"
      },
      "execution_count": 14,
      "outputs": []
    },
    {
      "cell_type": "code",
      "source": [
        "#split data into train and test dataset\n",
        "train_proportion= .8      #80% data for training, 20% for testing\n",
        "train_len= int(train_proportion * len(X))   #len(2d_array) is #rows in that array\n",
        "train_x= X[0:train_len, :]\n",
        "train_y= Y[0:train_len]\n",
        "test_x= X[train_len:, :]\n",
        "test_y= Y[train_len: ]\n",
        "\n",
        "#torch uses tensor instead of numpy arrays\n",
        "train_x = torch.FloatTensor (train_x)\n",
        "train_y= torch.LongTensor (train_y)\n",
        "test_x = torch.FloatTensor (test_x)\n",
        "test_y= torch.LongTensor (test_y)"
      ],
      "metadata": {
        "id": "JX84Ga8lwa9S"
      },
      "execution_count": 32,
      "outputs": []
    },
    {
      "cell_type": "code",
      "source": [
        "#create model using Pytorch library\n",
        "#Pytorch uses object-oriented approach to define model. This involves \"class\"\n",
        "\n",
        "class create_model (nn.Module):\n",
        "  def __init__(self, ip_dim, op_dim):\n",
        "    super().__init__()\n",
        "    #define layers here\n",
        "    self.input_layer= nn.Linear (ip_dim,20)\n",
        "    self.hidden_layer1= nn.Linear (20, 15)\n",
        "    self.hidden_layer2= nn.Linear (15, 10)\n",
        "    self.output_layer= nn.Linear (10, op_dim)\n",
        "\n",
        "  def forward (self, x):      #define how our data (x) passes through the network\n",
        "    x= self.input_layer(x)\n",
        "    x= F.relu (x)\n",
        "    x= self.hidden_layer1 (x)\n",
        "    x= F.relu (x)\n",
        "    x= self.hidden_layer2 (x)\n",
        "    x= F.relu (x)\n",
        "    x= self.output_layer (x)\n",
        "    #output= F.log_softmax (x)\n",
        "    return x\n"
      ],
      "metadata": {
        "id": "I1SkgNLMweNZ"
      },
      "execution_count": 40,
      "outputs": []
    },
    {
      "cell_type": "code",
      "source": [
        "#get input and output dimension\n",
        "num_features= X.shape[1]    # #columns in X\n",
        "num_classes= len(Y)     #Y is an array of one-hot encoded vectors. Each vector's size is #classes\n",
        "#print(num_features)\n",
        "#print(num_classes)\n",
        "mymodel= create_model(num_features, num_classes)\n"
      ],
      "metadata": {
        "id": "0knwR-WHy52p"
      },
      "execution_count": 43,
      "outputs": []
    },
    {
      "cell_type": "code",
      "source": [
        "#we need compile 'mymodel' now.\n",
        "#define which loss function we want to use\n",
        "criterion = nn.CrossEntropyLoss()\n",
        "optimizer = torch.optim.Adam(mymodel.parameters(), lr=0.01)\n",
        "epochs = 50\n",
        "losses=[]\n",
        "\n",
        "for i in range(epochs):\n",
        "    predicted_y = mymodel.forward(train_x)\n",
        "    loss = criterion(predicted_y, train_y)\n",
        "    losses.append(loss)\n",
        "    print(f'epoch: {i:2}  loss: {loss.item():10.8f}')\n",
        "    \n",
        "    #backpropagation\n",
        "    optimizer.zero_grad()\n",
        "    loss.backward()\n",
        "    optimizer.step()\n",
        "    "
      ],
      "metadata": {
        "colab": {
          "base_uri": "https://localhost:8080/"
        },
        "id": "9MuW7H0Cy-PB",
        "outputId": "fd317561-5c2a-4fe7-8dad-45b46d837efb"
      },
      "execution_count": 44,
      "outputs": [
        {
          "output_type": "stream",
          "name": "stdout",
          "text": [
            "epoch:  0  loss: 5.13066626\n",
            "epoch:  1  loss: 5.02700138\n",
            "epoch:  2  loss: 4.91827965\n",
            "epoch:  3  loss: 4.79836416\n",
            "epoch:  4  loss: 4.63789082\n",
            "epoch:  5  loss: 4.42769861\n",
            "epoch:  6  loss: 4.16352606\n",
            "epoch:  7  loss: 3.84316683\n",
            "epoch:  8  loss: 3.45912266\n",
            "epoch:  9  loss: 3.01961803\n",
            "epoch: 10  loss: 2.55888605\n",
            "epoch: 11  loss: 2.13917565\n",
            "epoch: 12  loss: 1.81840050\n",
            "epoch: 13  loss: 1.60284197\n",
            "epoch: 14  loss: 1.44253659\n",
            "epoch: 15  loss: 1.26540399\n",
            "epoch: 16  loss: 1.06375146\n",
            "epoch: 17  loss: 0.91601390\n",
            "epoch: 18  loss: 0.97207832\n",
            "epoch: 19  loss: 1.08503044\n",
            "epoch: 20  loss: 1.03833759\n",
            "epoch: 21  loss: 0.89371049\n",
            "epoch: 22  loss: 0.81377125\n",
            "epoch: 23  loss: 0.85344183\n",
            "epoch: 24  loss: 0.89291096\n",
            "epoch: 25  loss: 0.84904104\n",
            "epoch: 26  loss: 0.74974728\n",
            "epoch: 27  loss: 0.68904972\n",
            "epoch: 28  loss: 0.69801277\n",
            "epoch: 29  loss: 0.68879682\n",
            "epoch: 30  loss: 0.64914024\n",
            "epoch: 31  loss: 0.61258215\n",
            "epoch: 32  loss: 0.57329214\n",
            "epoch: 33  loss: 0.53880864\n",
            "epoch: 34  loss: 0.53324366\n",
            "epoch: 35  loss: 0.52860212\n",
            "epoch: 36  loss: 0.49467251\n",
            "epoch: 37  loss: 0.46472815\n",
            "epoch: 38  loss: 0.45013073\n",
            "epoch: 39  loss: 0.43368909\n",
            "epoch: 40  loss: 0.41545418\n",
            "epoch: 41  loss: 0.40548256\n",
            "epoch: 42  loss: 0.39313549\n",
            "epoch: 43  loss: 0.37636214\n",
            "epoch: 44  loss: 0.36350885\n",
            "epoch: 45  loss: 0.34637767\n",
            "epoch: 46  loss: 0.32882184\n",
            "epoch: 47  loss: 0.31555289\n",
            "epoch: 48  loss: 0.29956624\n",
            "epoch: 49  loss: 0.28560993\n"
          ]
        }
      ]
    },
    {
      "cell_type": "code",
      "source": [
        "#evaluate model\n",
        "predictions =  []\n",
        "with torch.no_grad():\n",
        "  for data_sample in test_x:\n",
        "    y_hat = mymodel(data_sample)\n",
        "    predictions.append(y_hat.argmax().item())\n",
        "\n",
        "print(predictions)"
      ],
      "metadata": {
        "colab": {
          "base_uri": "https://localhost:8080/"
        },
        "id": "HV5-U76S5Xmj",
        "outputId": "d36e6400-b771-4ab6-defe-2b29fbae1f3a"
      },
      "execution_count": 49,
      "outputs": [
        {
          "output_type": "stream",
          "name": "stdout",
          "text": [
            "[0, 0, 0, 2, 0, 1, 0, 0, 1, 0, 2, 1, 0, 0, 0, 0, 2, 1, 0, 2, 2, 2, 0, 0, 1, 0, 0, 0, 0, 1]\n"
          ]
        }
      ]
    },
    {
      "cell_type": "code",
      "source": [
        "#print test accuracy\n",
        "from sklearn.metrics import accuracy_score\n",
        "\n",
        "accuracy_score(test_y, predictions)"
      ],
      "metadata": {
        "colab": {
          "base_uri": "https://localhost:8080/"
        },
        "id": "74g4Q0cY69kL",
        "outputId": "2ca8d94f-9e65-419e-8335-d462d5a44728"
      },
      "execution_count": 50,
      "outputs": [
        {
          "output_type": "execute_result",
          "data": {
            "text/plain": [
              "0.9666666666666667"
            ]
          },
          "metadata": {},
          "execution_count": 50
        }
      ]
    }
  ]
}