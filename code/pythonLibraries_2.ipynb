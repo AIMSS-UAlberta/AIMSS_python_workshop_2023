{
  "nbformat": 4,
  "nbformat_minor": 0,
  "metadata": {
    "colab": {
      "provenance": [],
      "authorship_tag": "ABX9TyN+aIo9wvP/zwnyRLV/YF07",
      "include_colab_link": true
    },
    "kernelspec": {
      "name": "python3",
      "display_name": "Python 3"
    },
    "language_info": {
      "name": "python"
    }
  },
  "cells": [
    {
      "cell_type": "markdown",
      "metadata": {
        "id": "view-in-github",
        "colab_type": "text"
      },
      "source": [
        "<a href=\"https://colab.research.google.com/github/afrin-afia/AIMSS_python_workshop_2023/blob/main/code/pythonLibraries_2.ipynb\" target=\"_parent\"><img src=\"https://colab.research.google.com/assets/colab-badge.svg\" alt=\"Open In Colab\"/></a>"
      ]
    },
    {
      "cell_type": "code",
      "execution_count": null,
      "metadata": {
        "id": "deB0QAtKX9eW"
      },
      "outputs": [],
      "source": [
        "#Classification of iris flowers using Keras library\n",
        "#load libraries\n",
        "import numpy as np\n",
        "import pandas as pd\n",
        "import matplotlib.pyplot as plt\n",
        "import seaborn as sns\n",
        "\n",
        "from keras.models import Sequential\n",
        "from keras.layers import Dense\n",
        "from keras.utils import to_categorical\n"
      ]
    },
    {
      "cell_type": "code",
      "source": [
        "#load dataset\n",
        "iris_dataframe= sns.load_dataset('iris')                                    #we could load the dataset from a local csv file/sklearn library also\n",
        "#iris_dataframe.info()\n",
        "iris_dataframe= iris_dataframe.sample(frac=1)   #shuffle the data. \n",
        "iris_dataframe['species'].unique()"
      ],
      "metadata": {
        "colab": {
          "base_uri": "https://localhost:8080/"
        },
        "id": "BakXJfyAkwKN",
        "outputId": "050b275c-ac5c-4d6d-fc9f-bb10e344b253"
      },
      "execution_count": null,
      "outputs": [
        {
          "output_type": "execute_result",
          "data": {
            "text/plain": [
              "array(['versicolor', 'setosa', 'virginica'], dtype=object)"
            ]
          },
          "metadata": {},
          "execution_count": 69
        }
      ]
    },
    {
      "cell_type": "code",
      "source": [
        "#preprocess data\n",
        "#replace target values with numbers. Note: Assign from 0, we need it to start from 0 (explanation in next cell)\n",
        "iris_dataframe=iris_dataframe.replace(to_replace=\"setosa\",value=0)\n",
        "iris_dataframe=iris_dataframe.replace(to_replace=\"versicolor\",value=1)\n",
        "iris_dataframe=iris_dataframe.replace(to_replace=\"virginica\",value=2)\n",
        "iris_dataframe.head()"
      ],
      "metadata": {
        "colab": {
          "base_uri": "https://localhost:8080/",
          "height": 206
        },
        "id": "U-zwHsHclRAe",
        "outputId": "95c861c2-f684-4c8f-8139-912e439453af"
      },
      "execution_count": null,
      "outputs": [
        {
          "output_type": "execute_result",
          "data": {
            "text/plain": [
              "    sepal_length  sepal_width  petal_length  petal_width species\n",
              "59           5.2          2.7           3.9          1.4       1\n",
              "36           5.5          3.5           1.3          0.2       0\n",
              "71           6.1          2.8           4.0          1.3       1\n",
              "28           5.2          3.4           1.4          0.2       0\n",
              "34           4.9          3.1           1.5          0.2       0"
            ],
            "text/html": [
              "\n",
              "  <div id=\"df-80f885a1-32d7-4528-a016-4c9f1d1e2c41\">\n",
              "    <div class=\"colab-df-container\">\n",
              "      <div>\n",
              "<style scoped>\n",
              "    .dataframe tbody tr th:only-of-type {\n",
              "        vertical-align: middle;\n",
              "    }\n",
              "\n",
              "    .dataframe tbody tr th {\n",
              "        vertical-align: top;\n",
              "    }\n",
              "\n",
              "    .dataframe thead th {\n",
              "        text-align: right;\n",
              "    }\n",
              "</style>\n",
              "<table border=\"1\" class=\"dataframe\">\n",
              "  <thead>\n",
              "    <tr style=\"text-align: right;\">\n",
              "      <th></th>\n",
              "      <th>sepal_length</th>\n",
              "      <th>sepal_width</th>\n",
              "      <th>petal_length</th>\n",
              "      <th>petal_width</th>\n",
              "      <th>species</th>\n",
              "    </tr>\n",
              "  </thead>\n",
              "  <tbody>\n",
              "    <tr>\n",
              "      <th>59</th>\n",
              "      <td>5.2</td>\n",
              "      <td>2.7</td>\n",
              "      <td>3.9</td>\n",
              "      <td>1.4</td>\n",
              "      <td>1</td>\n",
              "    </tr>\n",
              "    <tr>\n",
              "      <th>36</th>\n",
              "      <td>5.5</td>\n",
              "      <td>3.5</td>\n",
              "      <td>1.3</td>\n",
              "      <td>0.2</td>\n",
              "      <td>0</td>\n",
              "    </tr>\n",
              "    <tr>\n",
              "      <th>71</th>\n",
              "      <td>6.1</td>\n",
              "      <td>2.8</td>\n",
              "      <td>4.0</td>\n",
              "      <td>1.3</td>\n",
              "      <td>1</td>\n",
              "    </tr>\n",
              "    <tr>\n",
              "      <th>28</th>\n",
              "      <td>5.2</td>\n",
              "      <td>3.4</td>\n",
              "      <td>1.4</td>\n",
              "      <td>0.2</td>\n",
              "      <td>0</td>\n",
              "    </tr>\n",
              "    <tr>\n",
              "      <th>34</th>\n",
              "      <td>4.9</td>\n",
              "      <td>3.1</td>\n",
              "      <td>1.5</td>\n",
              "      <td>0.2</td>\n",
              "      <td>0</td>\n",
              "    </tr>\n",
              "  </tbody>\n",
              "</table>\n",
              "</div>\n",
              "      <button class=\"colab-df-convert\" onclick=\"convertToInteractive('df-80f885a1-32d7-4528-a016-4c9f1d1e2c41')\"\n",
              "              title=\"Convert this dataframe to an interactive table.\"\n",
              "              style=\"display:none;\">\n",
              "        \n",
              "  <svg xmlns=\"http://www.w3.org/2000/svg\" height=\"24px\"viewBox=\"0 0 24 24\"\n",
              "       width=\"24px\">\n",
              "    <path d=\"M0 0h24v24H0V0z\" fill=\"none\"/>\n",
              "    <path d=\"M18.56 5.44l.94 2.06.94-2.06 2.06-.94-2.06-.94-.94-2.06-.94 2.06-2.06.94zm-11 1L8.5 8.5l.94-2.06 2.06-.94-2.06-.94L8.5 2.5l-.94 2.06-2.06.94zm10 10l.94 2.06.94-2.06 2.06-.94-2.06-.94-.94-2.06-.94 2.06-2.06.94z\"/><path d=\"M17.41 7.96l-1.37-1.37c-.4-.4-.92-.59-1.43-.59-.52 0-1.04.2-1.43.59L10.3 9.45l-7.72 7.72c-.78.78-.78 2.05 0 2.83L4 21.41c.39.39.9.59 1.41.59.51 0 1.02-.2 1.41-.59l7.78-7.78 2.81-2.81c.8-.78.8-2.07 0-2.86zM5.41 20L4 18.59l7.72-7.72 1.47 1.35L5.41 20z\"/>\n",
              "  </svg>\n",
              "      </button>\n",
              "      \n",
              "  <style>\n",
              "    .colab-df-container {\n",
              "      display:flex;\n",
              "      flex-wrap:wrap;\n",
              "      gap: 12px;\n",
              "    }\n",
              "\n",
              "    .colab-df-convert {\n",
              "      background-color: #E8F0FE;\n",
              "      border: none;\n",
              "      border-radius: 50%;\n",
              "      cursor: pointer;\n",
              "      display: none;\n",
              "      fill: #1967D2;\n",
              "      height: 32px;\n",
              "      padding: 0 0 0 0;\n",
              "      width: 32px;\n",
              "    }\n",
              "\n",
              "    .colab-df-convert:hover {\n",
              "      background-color: #E2EBFA;\n",
              "      box-shadow: 0px 1px 2px rgba(60, 64, 67, 0.3), 0px 1px 3px 1px rgba(60, 64, 67, 0.15);\n",
              "      fill: #174EA6;\n",
              "    }\n",
              "\n",
              "    [theme=dark] .colab-df-convert {\n",
              "      background-color: #3B4455;\n",
              "      fill: #D2E3FC;\n",
              "    }\n",
              "\n",
              "    [theme=dark] .colab-df-convert:hover {\n",
              "      background-color: #434B5C;\n",
              "      box-shadow: 0px 1px 3px 1px rgba(0, 0, 0, 0.15);\n",
              "      filter: drop-shadow(0px 1px 2px rgba(0, 0, 0, 0.3));\n",
              "      fill: #FFFFFF;\n",
              "    }\n",
              "  </style>\n",
              "\n",
              "      <script>\n",
              "        const buttonEl =\n",
              "          document.querySelector('#df-80f885a1-32d7-4528-a016-4c9f1d1e2c41 button.colab-df-convert');\n",
              "        buttonEl.style.display =\n",
              "          google.colab.kernel.accessAllowed ? 'block' : 'none';\n",
              "\n",
              "        async function convertToInteractive(key) {\n",
              "          const element = document.querySelector('#df-80f885a1-32d7-4528-a016-4c9f1d1e2c41');\n",
              "          const dataTable =\n",
              "            await google.colab.kernel.invokeFunction('convertToInteractive',\n",
              "                                                     [key], {});\n",
              "          if (!dataTable) return;\n",
              "\n",
              "          const docLinkHtml = 'Like what you see? Visit the ' +\n",
              "            '<a target=\"_blank\" href=https://colab.research.google.com/notebooks/data_table.ipynb>data table notebook</a>'\n",
              "            + ' to learn more about interactive tables.';\n",
              "          element.innerHTML = '';\n",
              "          dataTable['output_type'] = 'display_data';\n",
              "          await google.colab.output.renderOutput(dataTable, element);\n",
              "          const docLink = document.createElement('div');\n",
              "          docLink.innerHTML = docLinkHtml;\n",
              "          element.appendChild(docLink);\n",
              "        }\n",
              "      </script>\n",
              "    </div>\n",
              "  </div>\n",
              "  "
            ]
          },
          "metadata": {},
          "execution_count": 78
        }
      ]
    },
    {
      "cell_type": "code",
      "source": [
        "#seperate features (X) and outputs (Y)\n",
        "Y= iris_dataframe['species']\n",
        "X= iris_dataframe.drop(['species'], axis=1)\n",
        "#df to array\n",
        "X= X.to_numpy()\n",
        "Y= Y.to_numpy()\n",
        "\n",
        "#class= 0,1,2 do not have any meaning, they just represent three different classes. So, we should use one-hot encoding to represent classes\n",
        "Y= to_categorical(Y)        #keras's to_categorical() function needs integer-classes to start from 0\n",
        "\n",
        "\n",
        "\n",
        "#print(X)\n",
        "#print(type(X))\n",
        "#print(Y)"
      ],
      "metadata": {
        "id": "_2WbPoainQ1G"
      },
      "execution_count": null,
      "outputs": []
    },
    {
      "cell_type": "code",
      "source": [
        "#split data into train and test dataset\n",
        "train_proportion= .8      #80% data for training, 20% for testing\n",
        "train_len= int(train_proportion * len(X))   #len(2d_array) is #rows in that array\n",
        "train_x= X[0:train_len, :]\n",
        "train_y= Y[0:train_len, :]\n",
        "test_x= X[train_len:, :]\n",
        "test_y= Y[train_len:, :]\n",
        "print(train_x.shape)\n",
        "print(test_x.shape)"
      ],
      "metadata": {
        "colab": {
          "base_uri": "https://localhost:8080/"
        },
        "id": "qJ_0ejcjphoX",
        "outputId": "28a06112-d269-4415-a9a4-0983be6d369d"
      },
      "execution_count": null,
      "outputs": [
        {
          "output_type": "stream",
          "name": "stdout",
          "text": [
            "(120, 4)\n",
            "(30, 4)\n"
          ]
        }
      ]
    },
    {
      "cell_type": "code",
      "source": [
        "#write a function that defines our neural network model and returns it\n",
        "def create_model(ip_dim, op_dim):\n",
        "  model= Sequential()\n",
        "  model.add (Dense(20, input_dim=ip_dim, activation='relu'))\n",
        "  model.add (Dense(15, activation='relu'))           #relu= rectified linear unit is the most used activation for hidden layers\n",
        "  model.add (Dense(10, activation='relu')) \n",
        "  model.add (Dense(op_dim, activation='softmax'))   #softmax returns values in [0,1] that sum up to 1. Thus, it assigns probabilities to each class\n",
        "\n",
        "  #now compile the model\n",
        "  model.compile(loss='categorical_crossentropy', metrics=['accuracy'])\n",
        "  return model\n"
      ],
      "metadata": {
        "id": "VDx_9F-VOkjF"
      },
      "execution_count": null,
      "outputs": []
    },
    {
      "cell_type": "code",
      "source": [
        "#get input and output dimension\n",
        "num_features= X.shape[1]    # #columns in X\n",
        "num_classes= Y.shape[1]     #Y is an array of one-hot encoded vectors. Each vector's size is #classes\n",
        "#print(num_features)\n",
        "#print(num_classes)\n",
        "mymodel= create_model(num_features, num_classes)\n",
        "print(mymodel.summary())"
      ],
      "metadata": {
        "colab": {
          "base_uri": "https://localhost:8080/"
        },
        "id": "4kqET3poSEBF",
        "outputId": "1f8be497-5b89-4567-a8c8-7e05e7e7068a"
      },
      "execution_count": null,
      "outputs": [
        {
          "output_type": "stream",
          "name": "stdout",
          "text": [
            "Model: \"sequential_9\"\n",
            "_________________________________________________________________\n",
            " Layer (type)                Output Shape              Param #   \n",
            "=================================================================\n",
            " dense_28 (Dense)            (None, 20)                100       \n",
            "                                                                 \n",
            " dense_29 (Dense)            (None, 15)                315       \n",
            "                                                                 \n",
            " dense_30 (Dense)            (None, 10)                160       \n",
            "                                                                 \n",
            " dense_31 (Dense)            (None, 3)                 33        \n",
            "                                                                 \n",
            "=================================================================\n",
            "Total params: 608\n",
            "Trainable params: 608\n",
            "Non-trainable params: 0\n",
            "_________________________________________________________________\n",
            "None\n"
          ]
        }
      ]
    },
    {
      "cell_type": "code",
      "source": [
        "\n",
        "#train the model\n",
        "fit_history=mymodel.fit(train_x, train_y, batch_size=20, epochs=50)\n",
        "\n"
      ],
      "metadata": {
        "colab": {
          "base_uri": "https://localhost:8080/"
        },
        "id": "BBrz3T3fWIoW",
        "outputId": "dbd9211f-6c21-4ade-c9b1-0884436376cc"
      },
      "execution_count": 86,
      "outputs": [
        {
          "output_type": "stream",
          "name": "stdout",
          "text": [
            "Epoch 1/50\n",
            "6/6 [==============================] - 0s 5ms/step - loss: 0.2799 - accuracy: 0.9667\n",
            "Epoch 2/50\n",
            "6/6 [==============================] - 0s 4ms/step - loss: 0.2673 - accuracy: 0.9833\n",
            "Epoch 3/50\n",
            "6/6 [==============================] - 0s 3ms/step - loss: 0.2620 - accuracy: 0.9667\n",
            "Epoch 4/50\n",
            "6/6 [==============================] - 0s 3ms/step - loss: 0.2594 - accuracy: 0.9667\n",
            "Epoch 5/50\n",
            "6/6 [==============================] - 0s 3ms/step - loss: 0.2479 - accuracy: 0.9667\n",
            "Epoch 6/50\n",
            "6/6 [==============================] - 0s 2ms/step - loss: 0.2437 - accuracy: 0.9667\n",
            "Epoch 7/50\n",
            "6/6 [==============================] - 0s 3ms/step - loss: 0.2444 - accuracy: 0.9583\n",
            "Epoch 8/50\n",
            "6/6 [==============================] - 0s 3ms/step - loss: 0.2317 - accuracy: 0.9667\n",
            "Epoch 9/50\n",
            "6/6 [==============================] - 0s 3ms/step - loss: 0.2350 - accuracy: 0.9667\n",
            "Epoch 10/50\n",
            "6/6 [==============================] - 0s 2ms/step - loss: 0.2177 - accuracy: 0.9833\n",
            "Epoch 11/50\n",
            "6/6 [==============================] - 0s 3ms/step - loss: 0.2127 - accuracy: 0.9833\n",
            "Epoch 12/50\n",
            "6/6 [==============================] - 0s 4ms/step - loss: 0.2070 - accuracy: 0.9750\n",
            "Epoch 13/50\n",
            "6/6 [==============================] - 0s 3ms/step - loss: 0.2003 - accuracy: 0.9833\n",
            "Epoch 14/50\n",
            "6/6 [==============================] - 0s 3ms/step - loss: 0.1978 - accuracy: 0.9583\n",
            "Epoch 15/50\n",
            "6/6 [==============================] - 0s 4ms/step - loss: 0.1876 - accuracy: 0.9667\n",
            "Epoch 16/50\n",
            "6/6 [==============================] - 0s 3ms/step - loss: 0.1902 - accuracy: 0.9750\n",
            "Epoch 17/50\n",
            "6/6 [==============================] - 0s 3ms/step - loss: 0.1909 - accuracy: 0.9583\n",
            "Epoch 18/50\n",
            "6/6 [==============================] - 0s 3ms/step - loss: 0.1769 - accuracy: 0.9833\n",
            "Epoch 19/50\n",
            "6/6 [==============================] - 0s 3ms/step - loss: 0.1727 - accuracy: 0.9583\n",
            "Epoch 20/50\n",
            "6/6 [==============================] - 0s 3ms/step - loss: 0.1676 - accuracy: 0.9750\n",
            "Epoch 21/50\n",
            "6/6 [==============================] - 0s 3ms/step - loss: 0.1676 - accuracy: 0.9750\n",
            "Epoch 22/50\n",
            "6/6 [==============================] - 0s 3ms/step - loss: 0.1652 - accuracy: 0.9750\n",
            "Epoch 23/50\n",
            "6/6 [==============================] - 0s 3ms/step - loss: 0.1686 - accuracy: 0.9667\n",
            "Epoch 24/50\n",
            "6/6 [==============================] - 0s 3ms/step - loss: 0.1547 - accuracy: 0.9833\n",
            "Epoch 25/50\n",
            "6/6 [==============================] - 0s 5ms/step - loss: 0.1530 - accuracy: 0.9750\n",
            "Epoch 26/50\n",
            "6/6 [==============================] - 0s 3ms/step - loss: 0.1465 - accuracy: 0.9750\n",
            "Epoch 27/50\n",
            "6/6 [==============================] - 0s 3ms/step - loss: 0.1495 - accuracy: 0.9750\n",
            "Epoch 28/50\n",
            "6/6 [==============================] - 0s 3ms/step - loss: 0.1465 - accuracy: 0.9750\n",
            "Epoch 29/50\n",
            "6/6 [==============================] - 0s 4ms/step - loss: 0.1550 - accuracy: 0.9750\n",
            "Epoch 30/50\n",
            "6/6 [==============================] - 0s 3ms/step - loss: 0.1355 - accuracy: 0.9833\n",
            "Epoch 31/50\n",
            "6/6 [==============================] - 0s 3ms/step - loss: 0.1400 - accuracy: 0.9750\n",
            "Epoch 32/50\n",
            "6/6 [==============================] - 0s 5ms/step - loss: 0.1323 - accuracy: 0.9833\n",
            "Epoch 33/50\n",
            "6/6 [==============================] - 0s 3ms/step - loss: 0.1414 - accuracy: 0.9750\n",
            "Epoch 34/50\n",
            "6/6 [==============================] - 0s 3ms/step - loss: 0.1314 - accuracy: 0.9750\n",
            "Epoch 35/50\n",
            "6/6 [==============================] - 0s 3ms/step - loss: 0.1306 - accuracy: 0.9667\n",
            "Epoch 36/50\n",
            "6/6 [==============================] - 0s 3ms/step - loss: 0.1297 - accuracy: 0.9917\n",
            "Epoch 37/50\n",
            "6/6 [==============================] - 0s 4ms/step - loss: 0.1235 - accuracy: 0.9750\n",
            "Epoch 38/50\n",
            "6/6 [==============================] - 0s 3ms/step - loss: 0.1239 - accuracy: 0.9833\n",
            "Epoch 39/50\n",
            "6/6 [==============================] - 0s 3ms/step - loss: 0.1345 - accuracy: 0.9667\n",
            "Epoch 40/50\n",
            "6/6 [==============================] - 0s 3ms/step - loss: 0.1177 - accuracy: 0.9750\n",
            "Epoch 41/50\n",
            "6/6 [==============================] - 0s 3ms/step - loss: 0.1284 - accuracy: 0.9750\n",
            "Epoch 42/50\n",
            "6/6 [==============================] - 0s 3ms/step - loss: 0.1128 - accuracy: 0.9750\n",
            "Epoch 43/50\n",
            "6/6 [==============================] - 0s 3ms/step - loss: 0.1161 - accuracy: 0.9833\n",
            "Epoch 44/50\n",
            "6/6 [==============================] - 0s 4ms/step - loss: 0.1153 - accuracy: 0.9833\n",
            "Epoch 45/50\n",
            "6/6 [==============================] - 0s 3ms/step - loss: 0.1242 - accuracy: 0.9750\n",
            "Epoch 46/50\n",
            "6/6 [==============================] - 0s 3ms/step - loss: 0.1109 - accuracy: 0.9833\n",
            "Epoch 47/50\n",
            "6/6 [==============================] - 0s 3ms/step - loss: 0.1060 - accuracy: 0.9750\n",
            "Epoch 48/50\n",
            "6/6 [==============================] - 0s 3ms/step - loss: 0.1100 - accuracy: 0.9750\n",
            "Epoch 49/50\n",
            "6/6 [==============================] - 0s 3ms/step - loss: 0.1099 - accuracy: 0.9833\n",
            "Epoch 50/50\n",
            "6/6 [==============================] - 0s 3ms/step - loss: 0.1129 - accuracy: 0.9750\n"
          ]
        }
      ]
    },
    {
      "cell_type": "code",
      "source": [
        "#evaluate the model\n",
        "metrics= mymodel.evaluate(test_x, test_y)\n",
        "print(f'Loss on test data: {metrics[0]}')\n",
        "print(f'Accuracy on test data: {metrics[1]}')"
      ],
      "metadata": {
        "colab": {
          "base_uri": "https://localhost:8080/"
        },
        "id": "uQLhDW9l6s_b",
        "outputId": "11d70e67-3727-4539-b9a6-661fb8aed7bd"
      },
      "execution_count": 87,
      "outputs": [
        {
          "output_type": "stream",
          "name": "stdout",
          "text": [
            "1/1 [==============================] - 0s 20ms/step - loss: 0.0521 - accuracy: 1.0000\n",
            "Loss on test data: 0.052056942135095596\n",
            "Accuracy on test data: 1.0\n"
          ]
        }
      ]
    },
    {
      "cell_type": "code",
      "source": [
        "print(fit_history.history)"
      ],
      "metadata": {
        "colab": {
          "base_uri": "https://localhost:8080/"
        },
        "id": "aWRNAhL-j77g",
        "outputId": "5bbf8744-ae26-4c61-89c8-4d9cc2f68455"
      },
      "execution_count": null,
      "outputs": [
        {
          "output_type": "stream",
          "name": "stdout",
          "text": [
            "{'loss': [1.2217258214950562, 1.155988097190857, 1.127820372581482, 1.1017411947250366, 1.0747883319854736, 1.049040675163269, 1.0231270790100098, 1.0057536363601685, 0.986831545829773, 0.9706172943115234, 0.9543291330337524, 0.9404652714729309, 0.9219951629638672, 0.9062246680259705, 0.8911916017532349, 0.8697054386138916, 0.8475752472877502, 0.8260692358016968, 0.8033644556999207, 0.7776938080787659, 0.7538453936576843, 0.7305728793144226, 0.7038496136665344, 0.6760654449462891, 0.6504179239273071, 0.6299184560775757, 0.6030184626579285, 0.5836142301559448, 0.5601180195808411, 0.5391271114349365, 0.5223502516746521, 0.49962806701660156, 0.48430633544921875, 0.4658244848251343, 0.4483259916305542, 0.4386815130710602, 0.4241679012775421, 0.4117238223552704, 0.3978373110294342, 0.3852790296077728, 0.3701688349246979, 0.3612891137599945, 0.3522244989871979, 0.34464675188064575, 0.33071276545524597, 0.3190153241157532, 0.3061997592449188, 0.300702840089798, 0.30281326174736023, 0.2882390320301056], 'accuracy': [0.008333333767950535, 0.01666666753590107, 0.24166665971279144, 0.4166666567325592, 0.49166667461395264, 0.6083333492279053, 0.6583333611488342, 0.6499999761581421, 0.6583333611488342, 0.6583333611488342, 0.6666666865348816, 0.6666666865348816, 0.675000011920929, 0.675000011920929, 0.675000011920929, 0.675000011920929, 0.675000011920929, 0.675000011920929, 0.675000011920929, 0.675000011920929, 0.675000011920929, 0.675000011920929, 0.675000011920929, 0.6916666626930237, 0.6916666626930237, 0.699999988079071, 0.7250000238418579, 0.7333333492279053, 0.7749999761581421, 0.7666666507720947, 0.7833333611488342, 0.824999988079071, 0.8916666507720947, 0.8999999761581421, 0.8999999761581421, 0.875, 0.9083333611488342, 0.9333333373069763, 0.9666666388511658, 0.925000011920929, 0.9666666388511658, 0.949999988079071, 0.949999988079071, 0.9583333134651184, 0.9666666388511658, 0.9666666388511658, 0.9583333134651184, 0.9666666388511658, 0.9666666388511658, 0.9583333134651184]}\n"
          ]
        }
      ]
    },
    {
      "cell_type": "code",
      "source": [
        "#draw accuracy graph\n",
        "\n",
        "\n",
        "x_values= np.arange(1,51)\n",
        "y_values= fit_history.history['accuracy']\n",
        "myplot= sns.lineplot(x=x_values, y=y_values)\n",
        "myplot.set_xlabel('Epochs')\n",
        "myplot.set_ylabel('Training Accuracy')"
      ],
      "metadata": {
        "colab": {
          "base_uri": "https://localhost:8080/",
          "height": 297
        },
        "id": "L8HaJS0EkLmP",
        "outputId": "3a7a5191-ab7a-4d2c-b715-6ab90755adb0"
      },
      "execution_count": null,
      "outputs": [
        {
          "output_type": "execute_result",
          "data": {
            "text/plain": [
              "Text(0, 0.5, 'Accuracy')"
            ]
          },
          "metadata": {},
          "execution_count": 85
        },
        {
          "output_type": "display_data",
          "data": {
            "text/plain": [
              "<Figure size 432x288 with 1 Axes>"
            ],
            "image/png": "[encoded data removed]"
          },
          "metadata": {
            "needs_background": "light"
          }
        }
      ]
    }
  ]
}